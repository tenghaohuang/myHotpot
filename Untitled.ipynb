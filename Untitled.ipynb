{
 "cells": [
  {
   "cell_type": "code",
   "execution_count": 23,
   "metadata": {},
   "outputs": [
    {
     "name": "stdout",
     "output_type": "stream",
     "text": [
      "torch.int64\n"
     ]
    }
   ],
   "source": [
    "import pickle\n",
    "import torch\n",
    "input_= pickle.load(open('save.p','rb'))\n",
    "\n",
    "c = input_.clone().detach().to(torch.int64)\n",
    "print(c.dtype)\n"
   ]
  },
  {
   "cell_type": "code",
   "execution_count": 47,
   "metadata": {},
   "outputs": [],
   "source": [
    "import torch\n",
    "from torch import nn\n",
    "class LockedDropout(nn.Module):\n",
    "    def __init__(self, dropout):\n",
    "        super().__init__()\n",
    "        self.dropout = dropout\n",
    "\n",
    "    def forward(self, x):\n",
    "        dropout = self.dropout\n",
    "        if not self.training:\n",
    "            return x\n",
    "        m = x.data.new(x.size(0), 1, x.size(2)).bernoulli_(1 - dropout)\n",
    "        mask = Variable(m.div_(1 - dropout), requires_grad=False)\n",
    "        mask = mask.expand_as(x)\n",
    "        return mask * x"
   ]
  },
  {
   "cell_type": "code",
   "execution_count": 2,
   "metadata": {},
   "outputs": [
    {
     "ename": "NameError",
     "evalue": "name 'torch' is not defined",
     "output_type": "error",
     "traceback": [
      "\u001b[1;31m---------------------------------------------------------------------------\u001b[0m",
      "\u001b[1;31mNameError\u001b[0m                                 Traceback (most recent call last)",
      "\u001b[1;32m<ipython-input-2-a7122ec4f4b5>\u001b[0m in \u001b[0;36m<module>\u001b[1;34m\u001b[0m\n\u001b[0;32m      4\u001b[0m \u001b[1;32mfrom\u001b[0m \u001b[0mtorch\u001b[0m\u001b[1;33m.\u001b[0m\u001b[0mnn\u001b[0m\u001b[1;33m.\u001b[0m\u001b[0mutils\u001b[0m \u001b[1;32mimport\u001b[0m \u001b[0mrnn\u001b[0m\u001b[1;33m\u001b[0m\u001b[1;33m\u001b[0m\u001b[0m\n\u001b[0;32m      5\u001b[0m \u001b[1;32mimport\u001b[0m \u001b[0mnumpy\u001b[0m \u001b[1;32mas\u001b[0m \u001b[0mnp\u001b[0m\u001b[1;33m\u001b[0m\u001b[1;33m\u001b[0m\u001b[0m\n\u001b[1;32m----> 6\u001b[1;33m input_lengths = torch.tensor([22, 14, 14, 31, 23, 11, 24, 16, 17, 18, 31, 16, 29, 15, 24, 25, 15,  8,\n\u001b[0m\u001b[0;32m      7\u001b[0m         12, 45, 14, 13, 15, 10], device='cuda:0')\n\u001b[0;32m      8\u001b[0m \u001b[0minput_lengths\u001b[0m\u001b[1;33m,\u001b[0m\u001b[0mindices\u001b[0m \u001b[1;33m=\u001b[0m \u001b[0mtorch\u001b[0m\u001b[1;33m.\u001b[0m\u001b[0msort\u001b[0m\u001b[1;33m(\u001b[0m\u001b[0minput_lengths\u001b[0m\u001b[1;33m,\u001b[0m\u001b[0mdescending\u001b[0m \u001b[1;33m=\u001b[0m \u001b[1;32mTrue\u001b[0m\u001b[1;33m)\u001b[0m\u001b[1;33m\u001b[0m\u001b[1;33m\u001b[0m\u001b[0m\n",
      "\u001b[1;31mNameError\u001b[0m: name 'torch' is not defined"
     ]
    }
   ],
   "source": [
    "import pickle\n",
    "input_= pickle.load(open('save.p','rb'))\n",
    "\n",
    "from torch.nn.utils import rnn\n",
    "import numpy as np\n",
    "input_lengths = torch.tensor([22, 14, 14, 31, 23, 11, 24, 16, 17, 18, 31, 16, 29, 15, 24, 25, 15,  8,\n",
    "        12, 45, 14, 13, 15, 10], device='cuda:0')\n",
    "input_lengths,indices = torch.sort(input_lengths,descending = True)\n",
    "input_ = input_.cpu().detach().numpy()\n",
    "indices = indices.data.cpu().numpy()\n",
    "print(input_[0])\n",
    "inn = input_[indices]\n",
    "a = torch.tensor(inn,device = 'cuda:0')\n",
    "print(a[0])\n",
    "bsz, slen = input_.size(0), input_.size(1)\n",
    "output = input_\n",
    "outputs = []\n",
    "if input_lengths is not None:\n",
    "    lens = input_lengths.data.cpu().numpy()\n",
    "for i in range(1):\n",
    "#     hidden = self.get_init(bsz, i)\n",
    "\n",
    "#     output = LockedDropout(output)\n",
    "    if input_lengths is not None:\n",
    "        output = rnn.pack_padded_sequence(output, lens, batch_first=True)\n",
    "print(output)"
   ]
  },
  {
   "cell_type": "code",
   "execution_count": 3,
   "metadata": {},
   "outputs": [
    {
     "name": "stdout",
     "output_type": "stream",
     "text": [
      "160\n",
      "torch.Size([24, 45, 160])\n",
      "torch.Size([2, 1, 24, 80])\n",
      "torch.Size([2, 1, 24, 80])\n"
     ]
    }
   ],
   "source": [
    "import pickle\n",
    "import torch\n",
    "from torch import nn\n",
    "dec_in,enc_hidden= pickle.load(open('combine.p','rb'))\n",
    "print(dec_in.size(2))\n",
    "print(dec_in.size())\n",
    "print(enc_hidden.size())\n",
    "# if isinstance(enc_hidden, tuple):  # meaning we have a LSTM encoder\n",
    "#     enc_hidden = tuple(\n",
    "#         (torch.cat((hidden[0:hidden.size(0):2], hidden[1:hidden.size(0):2]), dim=2) for hidden in enc_hidden))\n",
    "# else:  # GRU layer\n",
    "#     print('lol')\n",
    "#     enc_hidden = torch.cat((enc_hidden[0:enc_hidden.size(0):2], enc_hidden[1:enc_hidden.size(0):2]), dim=2)\n",
    "\n",
    "print(enc_hidden.size())"
   ]
  },
  {
   "cell_type": "code",
   "execution_count": 12,
   "metadata": {},
   "outputs": [
    {
     "name": "stdout",
     "output_type": "stream",
     "text": [
      "tensor([1, 2, 3, 4])\n",
      "(tensor([1, 2]), tensor([3, 4]))\n"
     ]
    }
   ],
   "source": [
    "a = torch.tensor([1,2,3,4])\n",
    "print(a)\n",
    "a = a.split(2,-1)\n",
    "# b = a[:,:-1,:].split(1,1)\n",
    "print(a)"
   ]
  },
  {
   "cell_type": "code",
   "execution_count": 8,
   "metadata": {
    "collapsed": true
   },
   "outputs": [
    {
     "name": "stdout",
     "output_type": "stream",
     "text": [
      "torch.Size([24, 45, 160])\n",
      "<class 'torch.Tensor'>\n",
      "torch.Size([2, 1, 24, 80])\n"
     ]
    }
   ],
   "source": [
    "dec = nn.LSTM(input_size = 80*2, hidden_size = 80, num_layers = 1, batch_first=bool(True), bidirectional=bool(False), dropout=0.)\n",
    "dec_in = dec_in.cpu().detach().numpy()\n",
    "dec_in = torch.tensor(dec_in,device = 'cpu')\n",
    "enc_hidden = enc_hidden.cpu().detach().numpy()\n",
    "enc_hidden = torch.tensor(enc_hidden,device = 'cpu')\n",
    "print(dec_in.size())\n",
    "print(type(enc_hidden))\n",
    "print(enc_hidden.size())\n",
    "outputs = dec(dec_in, tuple(enc_hidden))\n",
    "# print(outputs)"
   ]
  },
  {
   "cell_type": "code",
   "execution_count": 18,
   "metadata": {},
   "outputs": [],
   "source": [
    "import pickle\n",
    "\n",
    "input_= pickle.load(open('save.p','rb'))\n",
    "\n",
    "dec_init= pickle.load(open('lstm_dec_init.p','rb'))\n",
    "enc_hiddens= pickle.load(open('lstm_output.p','rb'))"
   ]
  },
  {
   "cell_type": "code",
   "execution_count": 5,
   "metadata": {},
   "outputs": [
    {
     "name": "stdout",
     "output_type": "stream",
     "text": [
      "24\n"
     ]
    }
   ],
   "source": [
    "print(len(output[0]))"
   ]
  },
  {
   "cell_type": "code",
   "execution_count": 19,
   "metadata": {},
   "outputs": [],
   "source": [
    "import torch\n",
    "def generate_sent_masks(enc_hiddens,\n",
    "                        source_lengths) -> torch.Tensor:\n",
    "    \"\"\" Generate sentence masks for encoder hidden states.\n",
    "\n",
    "    @param enc_hiddens (Tensor): encodings of shape (b, src_len, 2*h), where b = batch size,\n",
    "                                 src_len = max source length, h = hidden size.\n",
    "    @param source_lengths (List[int]): List of actual lengths for each of the sentences in the batch.\n",
    "\n",
    "    @returns enc_masks (Tensor): Tensor of sentence masks of shape (b, src_len),\n",
    "                                where src_len = max source length, h = hidden size.\n",
    "    \"\"\"\n",
    "    enc_masks = torch.zeros(\n",
    "        enc_hiddens.size(0), enc_hiddens.size(1), dtype=torch.float)\n",
    "    for e_id, src_len in enumerate(source_lengths):\n",
    "        enc_masks[e_id, src_len:] = 1\n",
    "    return enc_masks.to(self.device)"
   ]
  },
  {
   "cell_type": "code",
   "execution_count": 20,
   "metadata": {},
   "outputs": [],
   "source": [
    "input_= pickle.load(open('save.p','rb'))\n",
    "input_lengths = torch.tensor([22, 14, 14, 31, 23, 11, 24, 16, 17, 18, 31, 16, 29, 15, 24, 25, 15,  8,\n",
    "        12, 45, 14, 13, 15, 10], device='cuda:0')\n",
    "input_lengths,indices = torch.sort(input_lengths,descending = True)\n"
   ]
  },
  {
   "cell_type": "code",
   "execution_count": 21,
   "metadata": {},
   "outputs": [
    {
     "ename": "AttributeError",
     "evalue": "'tuple' object has no attribute 'size'",
     "output_type": "error",
     "traceback": [
      "\u001b[1;31m---------------------------------------------------------------------------\u001b[0m",
      "\u001b[1;31mAttributeError\u001b[0m                            Traceback (most recent call last)",
      "\u001b[1;32m<ipython-input-21-f73f98394b20>\u001b[0m in \u001b[0;36m<module>\u001b[1;34m\u001b[0m\n\u001b[1;32m----> 1\u001b[1;33m \u001b[0mmasks\u001b[0m \u001b[1;33m=\u001b[0m \u001b[0mgenerate_sent_masks\u001b[0m\u001b[1;33m(\u001b[0m\u001b[0menc_hiddens\u001b[0m\u001b[1;33m,\u001b[0m\u001b[0minput_lengths\u001b[0m\u001b[1;33m)\u001b[0m\u001b[1;33m\u001b[0m\u001b[1;33m\u001b[0m\u001b[0m\n\u001b[0m",
      "\u001b[1;32m<ipython-input-19-94691f67ad78>\u001b[0m in \u001b[0;36mgenerate_sent_masks\u001b[1;34m(enc_hiddens, source_lengths)\u001b[0m\n\u001b[0;32m     12\u001b[0m     \"\"\"\n\u001b[0;32m     13\u001b[0m     enc_masks = torch.zeros(\n\u001b[1;32m---> 14\u001b[1;33m         enc_hiddens.size(0), enc_hiddens.size(1), dtype=torch.float)\n\u001b[0m\u001b[0;32m     15\u001b[0m     \u001b[1;32mfor\u001b[0m \u001b[0me_id\u001b[0m\u001b[1;33m,\u001b[0m \u001b[0msrc_len\u001b[0m \u001b[1;32min\u001b[0m \u001b[0menumerate\u001b[0m\u001b[1;33m(\u001b[0m\u001b[0msource_lengths\u001b[0m\u001b[1;33m)\u001b[0m\u001b[1;33m:\u001b[0m\u001b[1;33m\u001b[0m\u001b[1;33m\u001b[0m\u001b[0m\n\u001b[0;32m     16\u001b[0m         \u001b[0menc_masks\u001b[0m\u001b[1;33m[\u001b[0m\u001b[0me_id\u001b[0m\u001b[1;33m,\u001b[0m \u001b[0msrc_len\u001b[0m\u001b[1;33m:\u001b[0m\u001b[1;33m]\u001b[0m \u001b[1;33m=\u001b[0m \u001b[1;36m1\u001b[0m\u001b[1;33m\u001b[0m\u001b[1;33m\u001b[0m\u001b[0m\n",
      "\u001b[1;31mAttributeError\u001b[0m: 'tuple' object has no attribute 'size'"
     ]
    }
   ],
   "source": [
    "masks = generate_sent_masks(enc_hiddens,input_lengths)"
   ]
  },
  {
   "cell_type": "code",
   "execution_count": 22,
   "metadata": {},
   "outputs": [
    {
     "name": "stdout",
     "output_type": "stream",
     "text": [
      "torch.Size([24, 45, 160])\n"
     ]
    }
   ],
   "source": [
    "print(enc_hiddens[0].size())"
   ]
  },
  {
   "cell_type": "code",
   "execution_count": 23,
   "metadata": {},
   "outputs": [
    {
     "name": "stdout",
     "output_type": "stream",
     "text": [
      "torch.Size([1, 45, 160])\n",
      "torch.Size([1, 45, 160])\n",
      "torch.Size([1, 45, 160])\n",
      "torch.Size([1, 45, 160])\n",
      "torch.Size([1, 45, 160])\n",
      "torch.Size([1, 45, 160])\n",
      "torch.Size([1, 45, 160])\n",
      "torch.Size([1, 45, 160])\n",
      "torch.Size([1, 45, 160])\n",
      "torch.Size([1, 45, 160])\n",
      "torch.Size([1, 45, 160])\n",
      "torch.Size([1, 45, 160])\n",
      "torch.Size([1, 45, 160])\n",
      "torch.Size([1, 45, 160])\n",
      "torch.Size([1, 45, 160])\n",
      "torch.Size([1, 45, 160])\n",
      "torch.Size([1, 45, 160])\n",
      "torch.Size([1, 45, 160])\n",
      "torch.Size([1, 45, 160])\n",
      "torch.Size([1, 45, 160])\n",
      "torch.Size([1, 45, 160])\n",
      "torch.Size([1, 45, 160])\n",
      "torch.Size([1, 45, 160])\n",
      "torch.Size([1, 45, 160])\n"
     ]
    }
   ],
   "source": [
    "for i in torch.split(enc_hiddens[0],1):\n",
    "    print(i.size())\n",
    "    "
   ]
  },
  {
   "cell_type": "code",
   "execution_count": 29,
   "metadata": {},
   "outputs": [
    {
     "name": "stdout",
     "output_type": "stream",
     "text": [
      "torch.Size([160, 45])\n"
     ]
    }
   ],
   "source": [
    "i = torch.squeeze(i)\n",
    "i.transpose_(0,1)\n",
    "print(i.size())"
   ]
  },
  {
   "cell_type": "code",
   "execution_count": 25,
   "metadata": {},
   "outputs": [],
   "source": [
    "a = [1,2,3]"
   ]
  },
  {
   "cell_type": "code",
   "execution_count": 27,
   "metadata": {},
   "outputs": [],
   "source": [
    "a= a[:-1]"
   ]
  },
  {
   "cell_type": "code",
   "execution_count": 28,
   "metadata": {},
   "outputs": [
    {
     "data": {
      "text/plain": [
       "[1, 2]"
      ]
     },
     "execution_count": 28,
     "metadata": {},
     "output_type": "execute_result"
    }
   ],
   "source": [
    "a"
   ]
  },
  {
   "cell_type": "code",
   "execution_count": null,
   "metadata": {},
   "outputs": [],
   "source": []
  }
 ],
 "metadata": {
  "kernelspec": {
   "display_name": "Python 3",
   "language": "python",
   "name": "python3"
  },
  "language_info": {
   "codemirror_mode": {
    "name": "ipython",
    "version": 3
   },
   "file_extension": ".py",
   "mimetype": "text/x-python",
   "name": "python",
   "nbconvert_exporter": "python",
   "pygments_lexer": "ipython3",
   "version": "3.8.3"
  }
 },
 "nbformat": 4,
 "nbformat_minor": 4
}
